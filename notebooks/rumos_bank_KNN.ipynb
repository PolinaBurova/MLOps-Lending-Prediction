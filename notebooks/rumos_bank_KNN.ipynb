{
 "cells": [
  {
   "cell_type": "code",
   "execution_count": 20,
   "metadata": {},
   "outputs": [],
   "source": [
    "root_path = 'C:\\\\Users\\\\polin\\\\Downloads\\\\projecto_final_OML\\\\projecto_final\\\\rumos_bank\\\\data\\\\'"
   ]
  },
  {
   "cell_type": "code",
   "execution_count": 21,
   "metadata": {},
   "outputs": [],
   "source": [
    "import pandas as pd\n",
    "import numpy as np\n",
    "import matplotlib.pyplot as plt\n",
    "from sklearn.metrics import  precision_recall_curve, roc_auc_score, confusion_matrix, accuracy_score, recall_score, precision_score, f1_score,auc, roc_curve\n",
    "import pandas as pd\n",
    "from sklearn.model_selection import train_test_split\n",
    "from sklearn.preprocessing import MinMaxScaler\n",
    "from sklearn.model_selection import GridSearchCV\n",
    "from sklearn.ensemble import RandomForestClassifier\n",
    "from sklearn.linear_model import LogisticRegression\n",
    "from sklearn.neighbors import KNeighborsClassifier\n",
    "from sklearn.svm import SVC\n",
    "from sklearn import tree\n",
    "from sklearn.linear_model import Perceptron\n",
    "from sklearn.neural_network import MLPClassifier\n",
    "\n",
    "seed = 42"
   ]
  },
  {
   "cell_type": "code",
   "execution_count": 22,
   "metadata": {},
   "outputs": [],
   "source": [
    "df = pd.read_csv(root_path + 'lending_data.csv')"
   ]
  },
  {
   "cell_type": "code",
   "execution_count": 23,
   "metadata": {},
   "outputs": [],
   "source": [
    "df = df.drop('ID', axis = 1)"
   ]
  },
  {
   "cell_type": "code",
   "execution_count": 24,
   "metadata": {},
   "outputs": [],
   "source": [
    "train_set, test_set = train_test_split(df, test_size = 0.2, random_state = seed)\n",
    "\n",
    "X_train = train_set.drop(['default.payment.next.month'], axis = 'columns')\n",
    "y_train = train_set['default.payment.next.month']\n",
    "\n",
    "X_test = test_set.drop(['default.payment.next.month'], axis = 1)\n",
    "y_test = test_set['default.payment.next.month']"
   ]
  },
  {
   "cell_type": "code",
   "execution_count": 25,
   "metadata": {},
   "outputs": [],
   "source": [
    "def total_cost(y_test, y_preds, threshold = 0.5):\n",
    "    \n",
    "    tn, fp, fn, tp = confusion_matrix(y_test == 1, y_preds > threshold).ravel()\n",
    "    \n",
    "    cost_fn = fn*3000\n",
    "    cost_fp = fp*1000\n",
    "    \n",
    "    return cost_fn + cost_fp"
   ]
  },
  {
   "cell_type": "code",
   "execution_count": 26,
   "metadata": {},
   "outputs": [],
   "source": [
    "def min_cost_threshold(y_test, y_preds):\n",
    "    costs = {}\n",
    "    for threshold in np.arange(0, 1.1, 0.1):\n",
    "        costs[round(threshold, 1)] = total_cost(y_test, y_preds, threshold)\n",
    "    min_threshold = min(costs, key=costs.get)\n",
    "    return costs[min_threshold], min_threshold\n",
    "    "
   ]
  },
  {
   "cell_type": "code",
   "execution_count": 27,
   "metadata": {},
   "outputs": [],
   "source": [
    "import mlflow\n",
    "from pathlib import Path\n",
    "\n",
    "# Define the path where MLflow will store tracking data\n",
    "# This is the directory where all the experiment data will be saved\n",
    "uri = Path('C:\\\\Users\\\\polin\\\\Downloads\\\\projecto_final_OML\\\\projecto_final\\\\rumos_bank\\\\mlruns\\\\')\n",
    "\n",
    "# Create the directory if it doesn't exist\n",
    "uri.mkdir(parents=True, exist_ok=True)\n",
    "\n",
    "# Convert the path to a URI\n",
    "uri_as_uri = uri.as_uri()\n",
    "\n",
    "# Set the MLflow tracking URI\n",
    "#This line sets the tracking URI for MLflow. It tells MLflow where to store all the tracking data for experiments and runs. In this case, the data will be stored in the specified local directory.\n",
    "mlflow.set_tracking_uri(uri_as_uri)"
   ]
  },
  {
   "cell_type": "code",
   "execution_count": 28,
   "metadata": {},
   "outputs": [
    {
     "data": {
      "text/plain": [
       "<Experiment: artifact_location='file:///C:/Users/polin/Downloads/projecto_final_OML/projecto_final/rumos_bank/mlruns/212956915684796296', creation_time=1717782051760, experiment_id='212956915684796296', last_update_time=1717782051760, lifecycle_stage='active', name='KNN_Experiment', tags={}>"
      ]
     },
     "execution_count": 28,
     "metadata": {},
     "output_type": "execute_result"
    }
   ],
   "source": [
    "# Define MLflow Experiment for Logistic Regression\n",
    "mlflow.set_experiment(\"KNN_Experiment\")"
   ]
  },
  {
   "cell_type": "code",
   "execution_count": 29,
   "metadata": {},
   "outputs": [],
   "source": [
    "mlflow.end_run()"
   ]
  },
  {
   "cell_type": "code",
   "execution_count": 30,
   "metadata": {},
   "outputs": [
    {
     "name": "stderr",
     "output_type": "stream",
     "text": [
      "c:\\Users\\polin\\miniconda3\\envs\\rumos_bank\\Lib\\site-packages\\mlflow\\types\\utils.py:394: UserWarning: Hint: Inferred schema contains integer column(s). Integer columns in Python cannot represent missing values. If your input data contains missing values at inference time, it will be encoded as floats and will cause a schema enforcement error. The best way to avoid this problem is to infer the model schema based on a realistic data sample (training dataset) that includes missing values. Alternatively, you can declare integer columns as doubles (float64) whenever these columns may have missing values. See `Handling Integers With Missing Values <https://www.mlflow.org/docs/latest/models.html#handling-integers-with-missing-values>`_ for more details.\n",
      "  warnings.warn(\n",
      "c:\\Users\\polin\\miniconda3\\envs\\rumos_bank\\Lib\\site-packages\\mlflow\\types\\utils.py:394: UserWarning: Hint: Inferred schema contains integer column(s). Integer columns in Python cannot represent missing values. If your input data contains missing values at inference time, it will be encoded as floats and will cause a schema enforcement error. The best way to avoid this problem is to infer the model schema based on a realistic data sample (training dataset) that includes missing values. Alternatively, you can declare integer columns as doubles (float64) whenever these columns may have missing values. See `Handling Integers With Missing Values <https://www.mlflow.org/docs/latest/models.html#handling-integers-with-missing-values>`_ for more details.\n",
      "  warnings.warn(\n"
     ]
    },
    {
     "data": {
      "text/plain": [
       "42"
      ]
     },
     "execution_count": 30,
     "metadata": {},
     "output_type": "execute_result"
    }
   ],
   "source": [
    "\n",
    "SEED = 42\n",
    "\n",
    "# Concatenate X_train and y_train\n",
    "train_data = pd.concat([X_train, y_train], axis=1)\n",
    "train_dataset = mlflow.data.from_pandas(train_data, targets='default.payment.next.month', name=\"Rumos Bank Train Dataset\")\n",
    "mlflow.log_input(train_dataset, context=\"train\")\n",
    "\n",
    "# Concatenate X_test and y_test\n",
    "test_data = pd.concat([X_test, y_test], axis=1)\n",
    "test_dataset = mlflow.data.from_pandas(test_data, targets='default.payment.next.month', name=\"Rumos Bank Test Dataset\")\n",
    "mlflow.log_input(test_dataset, context=\"test\")\n",
    "\n",
    "# Log the seed parameter\n",
    "mlflow.log_param(\"seed\", SEED)\n"
   ]
  },
  {
   "cell_type": "code",
   "execution_count": 31,
   "metadata": {},
   "outputs": [],
   "source": [
    "from sklearn.pipeline import Pipeline\n",
    "\n",
    "knn_model = KNeighborsClassifier()\n",
    "\n",
    "knn_pipeline = Pipeline(\n",
    "    steps=[\n",
    "        (\"scaler\", MinMaxScaler()),\n",
    "        (\"KNN\", knn_model)\n",
    "])"
   ]
  },
  {
   "cell_type": "code",
   "execution_count": 32,
   "metadata": {},
   "outputs": [],
   "source": [
    "parameters = {'KNN__n_neighbors': range(1,10, 1)}"
   ]
  },
  {
   "cell_type": "code",
   "execution_count": 33,
   "metadata": {},
   "outputs": [
    {
     "name": "stderr",
     "output_type": "stream",
     "text": [
      "c:\\Users\\polin\\miniconda3\\envs\\rumos_bank\\Lib\\site-packages\\mlflow\\types\\utils.py:394: UserWarning: Hint: Inferred schema contains integer column(s). Integer columns in Python cannot represent missing values. If your input data contains missing values at inference time, it will be encoded as floats and will cause a schema enforcement error. The best way to avoid this problem is to infer the model schema based on a realistic data sample (training dataset) that includes missing values. Alternatively, you can declare integer columns as doubles (float64) whenever these columns may have missing values. See `Handling Integers With Missing Values <https://www.mlflow.org/docs/latest/models.html#handling-integers-with-missing-values>`_ for more details.\n",
      "  warnings.warn(\n",
      "c:\\Users\\polin\\miniconda3\\envs\\rumos_bank\\Lib\\site-packages\\mlflow\\types\\utils.py:394: UserWarning: Hint: Inferred schema contains integer column(s). Integer columns in Python cannot represent missing values. If your input data contains missing values at inference time, it will be encoded as floats and will cause a schema enforcement error. The best way to avoid this problem is to infer the model schema based on a realistic data sample (training dataset) that includes missing values. Alternatively, you can declare integer columns as doubles (float64) whenever these columns may have missing values. See `Handling Integers With Missing Values <https://www.mlflow.org/docs/latest/models.html#handling-integers-with-missing-values>`_ for more details.\n",
      "  warnings.warn(\n",
      "c:\\Users\\polin\\miniconda3\\envs\\rumos_bank\\Lib\\site-packages\\_distutils_hack\\__init__.py:11: UserWarning: Distutils was imported before Setuptools, but importing Setuptools also replaces the `distutils` module in `sys.modules`. This may lead to undesirable behaviors or errors. To avoid these issues, avoid using distutils directly, ensure that setuptools is installed in the traditional way (e.g. not an editable install), and/or make sure that setuptools is always imported before distutils.\n",
      "  warnings.warn(\n",
      "c:\\Users\\polin\\miniconda3\\envs\\rumos_bank\\Lib\\site-packages\\_distutils_hack\\__init__.py:26: UserWarning: Setuptools is replacing distutils.\n",
      "  warnings.warn(\"Setuptools is replacing distutils.\")\n",
      "Registered model 'KNN_test' already exists. Creating a new version of this model...\n",
      "Created version '2' of model 'KNN_test'.\n"
     ]
    },
    {
     "data": {
      "image/png": "[encoded data removed]",
      "text/plain": [
       "<Figure size 640x480 with 1 Axes>"
      ]
     },
     "metadata": {},
     "output_type": "display_data"
    }
   ],
   "source": [
    "from sklearn.metrics import confusion_matrix, ConfusionMatrixDisplay\n",
    "\n",
    "with mlflow.start_run(run_name=\"KNN Run\", nested = True):\n",
    "    # Train GridSearchCV with the pipeline\n",
    "    clf_knn = GridSearchCV(knn_pipeline, parameters, cv=5)\n",
    "    clf_knn.fit(X_train, y_train)\n",
    "    \n",
    "    # Predict probabilities for test data\n",
    "    y_probs = clf_knn.predict_proba(X_test)[:, 1]\n",
    "    \n",
    "    # Evaluate logistic regression model\n",
    "    score = clf_knn.score(X_test, y_test)\n",
    "    tn, fp, fn, tp = confusion_matrix(y_test, y_probs > 0.5).ravel()\n",
    "    \n",
    "    # Calculate total cost and minimum cost threshold\n",
    "    cost, min_threshold = total_cost(y_test, y_probs), min_cost_threshold(y_test, y_probs)\n",
    "    \n",
    "    # Log parameters, metrics, and model artifacts with MLflow\n",
    "    mlflow.log_params(clf_knn.best_params_)\n",
    "    mlflow.log_metric(\"accuracy\", score)\n",
    "    mlflow.log_metric(\"total_cost\", cost)\n",
    "    mlflow.log_metric(\"min_cost_threshold\", min_threshold[0])\n",
    "    \n",
    "    \n",
    "    # Plot total cost vs threshold curve\n",
    "    thresholds = np.arange(0, 1.1, 0.1)\n",
    "    costs = [total_cost(y_test, y_probs, threshold) for threshold in thresholds]\n",
    "    plt.plot(thresholds, costs)\n",
    "    plt.ylabel('Cost')\n",
    "    plt.xlabel('Threshold')\n",
    "    plt.title('Total Cost vs Threshold Curve')\n",
    "    plt.savefig('total_cost_vs_threshold.png')\n",
    "    mlflow.log_artifact('total_cost_vs_threshold.png')\n",
    "\n",
    "    # Log the final model\n",
    "    mlflow.sklearn.log_model(clf_knn.best_estimator_, artifact_path=\"knn_pipeline\", registered_model_name=\"KNN_test\", input_example=X_train)"
   ]
  },
  {
   "cell_type": "code",
   "execution_count": 34,
   "metadata": {},
   "outputs": [
    {
     "data": {
      "text/plain": [
       "{'memory': None,\n",
       " 'steps': [('scaler', MinMaxScaler()), ('KNN', KNeighborsClassifier())],\n",
       " 'verbose': False,\n",
       " 'scaler': MinMaxScaler(),\n",
       " 'KNN': KNeighborsClassifier(),\n",
       " 'scaler__clip': False,\n",
       " 'scaler__copy': True,\n",
       " 'scaler__feature_range': (0, 1),\n",
       " 'KNN__algorithm': 'auto',\n",
       " 'KNN__leaf_size': 30,\n",
       " 'KNN__metric': 'minkowski',\n",
       " 'KNN__metric_params': None,\n",
       " 'KNN__n_jobs': None,\n",
       " 'KNN__n_neighbors': 5,\n",
       " 'KNN__p': 2,\n",
       " 'KNN__weights': 'uniform'}"
      ]
     },
     "execution_count": 34,
     "metadata": {},
     "output_type": "execute_result"
    }
   ],
   "source": [
    "params=knn_pipeline.get_params()\n",
    "mlflow.log_params(params)\n",
    "params\n"
   ]
  },
  {
   "cell_type": "code",
   "execution_count": 35,
   "metadata": {},
   "outputs": [],
   "source": [
    "mlflow.end_run()"
   ]
  }
 ],
 "metadata": {
  "kernelspec": {
   "display_name": "rumos_bank",
   "language": "python",
   "name": "python3"
  },
  "language_info": {
   "codemirror_mode": {
    "name": "ipython",
    "version": 3
   },
   "file_extension": ".py",
   "mimetype": "text/x-python",
   "name": "python",
   "nbconvert_exporter": "python",
   "pygments_lexer": "ipython3",
   "version": "3.11.9"
  }
 },
 "nbformat": 4,
 "nbformat_minor": 2
}
