{
 "cells": [
  {
   "cell_type": "code",
   "execution_count": 1,
   "metadata": {},
   "outputs": [],
   "source": [
    "import requests\n",
    "import pandas as pd"
   ]
  },
  {
   "cell_type": "code",
   "execution_count": 2,
   "metadata": {},
   "outputs": [],
   "source": [
    "# Ler os dados\n",
    "data_path = 'C:\\\\\\\\data\\\\lending_data.csv'\n",
    "df = pd.read_csv(data_path)"
   ]
  },
  {
   "cell_type": "code",
   "execution_count": 3,
   "metadata": {},
   "outputs": [
    {
     "name": "stdout",
     "output_type": "stream",
     "text": [
      "   ID  LIMIT_BAL  SEX  EDUCATION  MARRIAGE  AGE  PAY_0  PAY_2  PAY_3  PAY_4  \\\n",
      "0   1    20000.0    2          2         1   24      2      2     -1     -1   \n",
      "\n",
      "   PAY_5  PAY_6  BILL_AMT1  BILL_AMT2  BILL_AMT3  BILL_AMT4  BILL_AMT5  \\\n",
      "0     -2     -2     3913.0     3102.0      689.0        0.0        0.0   \n",
      "\n",
      "   BILL_AMT6  PAY_AMT1  PAY_AMT2  PAY_AMT3  PAY_AMT4  PAY_AMT5  PAY_AMT6  \\\n",
      "0        0.0       0.0     689.0       0.0       0.0       0.0       0.0   \n",
      "\n",
      "   default.payment.next.month  \n",
      "0                           1  \n"
     ]
    }
   ],
   "source": [
    "# Display all columns without truncation\n",
    "pd.set_option('display.max_columns', None)\n",
    "\n",
    "# Display all rows without truncation\n",
    "pd.set_option('display.max_rows', None)\n",
    "\n",
    "# Now when you run df.head(1), you'll see the full row without truncation\n",
    "print(df.head(1))\n"
   ]
  },
  {
   "cell_type": "code",
   "execution_count": 4,
   "metadata": {},
   "outputs": [],
   "source": [
    "# retiramos o id e o target dos dados, para termos o input que o nosso modelo está à espera \n",
    "input_data = df.head(1).drop(['ID', 'default.payment.next.month'], axis = 'columns')"
   ]
  },
  {
   "cell_type": "code",
   "execution_count": 5,
   "metadata": {},
   "outputs": [],
   "source": [
    "request_dict = {k: v[0] for k, v in input_data.to_dict().items()}"
   ]
  },
  {
   "cell_type": "code",
   "execution_count": 6,
   "metadata": {},
   "outputs": [
    {
     "data": {
      "text/plain": [
       "{'LIMIT_BAL': 20000.0,\n",
       " 'SEX': 2,\n",
       " 'EDUCATION': 2,\n",
       " 'MARRIAGE': 1,\n",
       " 'AGE': 24,\n",
       " 'PAY_0': 2,\n",
       " 'PAY_2': 2,\n",
       " 'PAY_3': -1,\n",
       " 'PAY_4': -1,\n",
       " 'PAY_5': -2,\n",
       " 'PAY_6': -2,\n",
       " 'BILL_AMT1': 3913.0,\n",
       " 'BILL_AMT2': 3102.0,\n",
       " 'BILL_AMT3': 689.0,\n",
       " 'BILL_AMT4': 0.0,\n",
       " 'BILL_AMT5': 0.0,\n",
       " 'BILL_AMT6': 0.0,\n",
       " 'PAY_AMT1': 0.0,\n",
       " 'PAY_AMT2': 689.0,\n",
       " 'PAY_AMT3': 0.0,\n",
       " 'PAY_AMT4': 0.0,\n",
       " 'PAY_AMT5': 0.0,\n",
       " 'PAY_AMT6': 0.0}"
      ]
     },
     "execution_count": 6,
     "metadata": {},
     "output_type": "execute_result"
    }
   ],
   "source": [
    "request_dict"
   ]
  },
  {
   "cell_type": "code",
   "execution_count": 7,
   "metadata": {},
   "outputs": [],
   "source": [
    "# fazer pedido à app com os inputs\n",
    "response = requests.post(\"http://127.0.0.1:5007/predict\", json=request_dict)"
   ]
  },
  {
   "cell_type": "code",
   "execution_count": 8,
   "metadata": {},
   "outputs": [
    {
     "name": "stdout",
     "output_type": "stream",
     "text": [
      "{'prediction': 1}\n"
     ]
    }
   ],
   "source": [
    "if response.status_code == 200:\n",
    "    # Print the prediction result\n",
    "    print(response.json())\n",
    "else:\n",
    "    # Print an error message if the request was not successful\n",
    "    print(\"Error:\", response.text)"
   ]
  },
  {
   "cell_type": "code",
   "execution_count": 9,
   "metadata": {},
   "outputs": [
    {
     "data": {
      "text/plain": [
       "{'prediction': 1}"
      ]
     },
     "execution_count": 9,
     "metadata": {},
     "output_type": "execute_result"
    }
   ],
   "source": [
    "# recebemos uma resposta com a previsão\n",
    "response.json()"
   ]
  }
 ],
 "metadata": {
  "interpreter": {
   "hash": "458393e0d725110a6d0a7c08e796de430035df3893ff37c15fbe20afef919c4b"
  },
  "kernelspec": {
   "display_name": "Python 3.7.11 64-bit ('rumos_bank': conda)",
   "name": "python3"
  },
  "language_info": {
   "codemirror_mode": {
    "name": "ipython",
    "version": 3
   },
   "file_extension": ".py",
   "mimetype": "text/x-python",
   "name": "python",
   "nbconvert_exporter": "python",
   "pygments_lexer": "ipython3",
   "version": "3.11.9"
  },
  "orig_nbformat": 4
 },
 "nbformat": 4,
 "nbformat_minor": 2
}
